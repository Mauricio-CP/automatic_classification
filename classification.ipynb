{
 "cells": [
  {
   "cell_type": "markdown",
   "id": "70a8c10c",
   "metadata": {},
   "source": [
    "# 1. Préliminaires"
   ]
  },
  {
   "cell_type": "markdown",
   "id": "de334c9e",
   "metadata": {},
   "source": [
    "## 1.1. Importations"
   ]
  },
  {
   "cell_type": "markdown",
   "id": "8c9161b7",
   "metadata": {},
   "source": [
    "Importons les bibliothèques :"
   ]
  },
  {
   "cell_type": "code",
   "execution_count": 1,
   "id": "6514704c",
   "metadata": {},
   "outputs": [],
   "source": [
    "import random\n",
    "import timeit\n",
    "import os\n",
    "import shutil\n",
    "\n",
    "# Data\n",
    "import numpy as np\n",
    "import pandas as pd\n",
    "\n",
    "# Visualisation\n",
    "import matplotlib.pyplot as plt\n",
    "import seaborn as sns\n",
    "\n",
    "# Split\n",
    "from sklearn.model_selection import train_test_split\n",
    "\n",
    "# Label encoder\n",
    "from sklearn.preprocessing import LabelEncoder\n",
    "\n",
    "# Classification\n",
    "import tensorflow as tf\n",
    "from tensorflow.keras.models import Model, Sequential\n",
    "from tensorflow.keras.layers import GlobalAveragePooling2D, GlobalAveragePooling1D, Flatten, Dense, Dropout \n",
    "from tensorflow.keras.layers import Rescaling, RandomFlip, RandomRotation, RandomZoom\n",
    "from tensorflow.keras.callbacks import EarlyStopping, ModelCheckpoint\n",
    "from tensorflow.keras.applications.vgg16 import VGG16\n",
    "from tensorflow.keras.applications.vgg16 import preprocess_input\n",
    "from tensorflow.keras.preprocessing.image import load_img, img_to_array\n",
    "from tensorflow.keras.utils import to_categorical\n",
    "from tensorflow.keras.preprocessing.image import ImageDataGenerator\n",
    "from plot_keras_history import show_history, plot_history"
   ]
  },
  {
   "cell_type": "markdown",
   "id": "fdea2049",
   "metadata": {},
   "source": [
    "Chargeons les données :"
   ]
  },
  {
   "cell_type": "code",
   "execution_count": 2,
   "id": "22141745",
   "metadata": {},
   "outputs": [],
   "source": [
    "df = pd.read_csv('Flipkart/df_cleaned.csv')"
   ]
  },
  {
   "cell_type": "markdown",
   "id": "f83469e8",
   "metadata": {},
   "source": [
    "## 1.2. Présentation des données"
   ]
  },
  {
   "cell_type": "markdown",
   "id": "7c11891b",
   "metadata": {},
   "source": [
    "Forme du tableau :"
   ]
  },
  {
   "cell_type": "code",
   "execution_count": 3,
   "id": "64bde1a3",
   "metadata": {},
   "outputs": [
    {
     "data": {
      "text/plain": [
       "(1050, 3)"
      ]
     },
     "execution_count": 3,
     "metadata": {},
     "output_type": "execute_result"
    }
   ],
   "source": [
    "df.shape"
   ]
  },
  {
   "cell_type": "markdown",
   "id": "096a8a0e",
   "metadata": {},
   "source": [
    "Tête de la table (5 premières lignes) :"
   ]
  },
  {
   "cell_type": "code",
   "execution_count": 4,
   "id": "7ce8e33e",
   "metadata": {},
   "outputs": [
    {
     "data": {
      "text/html": [
       "<div>\n",
       "<style scoped>\n",
       "    .dataframe tbody tr th:only-of-type {\n",
       "        vertical-align: middle;\n",
       "    }\n",
       "\n",
       "    .dataframe tbody tr th {\n",
       "        vertical-align: top;\n",
       "    }\n",
       "\n",
       "    .dataframe thead th {\n",
       "        text-align: right;\n",
       "    }\n",
       "</style>\n",
       "<table border=\"1\" class=\"dataframe\">\n",
       "  <thead>\n",
       "    <tr style=\"text-align: right;\">\n",
       "      <th></th>\n",
       "      <th>category</th>\n",
       "      <th>image_path</th>\n",
       "      <th>name_and_description</th>\n",
       "    </tr>\n",
       "  </thead>\n",
       "  <tbody>\n",
       "    <tr>\n",
       "      <th>0</th>\n",
       "      <td>Home Furnishing</td>\n",
       "      <td>Flipkart/Images/55b85ea15a1536d46b7190ad6fff8c...</td>\n",
       "      <td>Elegance Polyester Multicolor Abstract Eyelet ...</td>\n",
       "    </tr>\n",
       "    <tr>\n",
       "      <th>1</th>\n",
       "      <td>Baby Care</td>\n",
       "      <td>Flipkart/Images/7b72c92c2f6c40268628ec5f14c6d5...</td>\n",
       "      <td>Sathiyas Cotton Bath Towel Specifications of S...</td>\n",
       "    </tr>\n",
       "    <tr>\n",
       "      <th>2</th>\n",
       "      <td>Baby Care</td>\n",
       "      <td>Flipkart/Images/64d5d4a258243731dc7bbb1eef49ad...</td>\n",
       "      <td>Eurospa Cotton Terry Face Towel Set Key Featur...</td>\n",
       "    </tr>\n",
       "    <tr>\n",
       "      <th>3</th>\n",
       "      <td>Home Furnishing</td>\n",
       "      <td>Flipkart/Images/d4684dcdc759dd9cdf41504698d737...</td>\n",
       "      <td>SANTOSH ROYAL FASHION Cotton Printed King size...</td>\n",
       "    </tr>\n",
       "    <tr>\n",
       "      <th>4</th>\n",
       "      <td>Home Furnishing</td>\n",
       "      <td>Flipkart/Images/6325b6870c54cd47be6ebfbffa620e...</td>\n",
       "      <td>Jaipur Print Cotton Floral King sized Double B...</td>\n",
       "    </tr>\n",
       "  </tbody>\n",
       "</table>\n",
       "</div>"
      ],
      "text/plain": [
       "          category                                         image_path  \\\n",
       "0  Home Furnishing  Flipkart/Images/55b85ea15a1536d46b7190ad6fff8c...   \n",
       "1        Baby Care  Flipkart/Images/7b72c92c2f6c40268628ec5f14c6d5...   \n",
       "2        Baby Care  Flipkart/Images/64d5d4a258243731dc7bbb1eef49ad...   \n",
       "3  Home Furnishing  Flipkart/Images/d4684dcdc759dd9cdf41504698d737...   \n",
       "4  Home Furnishing  Flipkart/Images/6325b6870c54cd47be6ebfbffa620e...   \n",
       "\n",
       "                                name_and_description  \n",
       "0  Elegance Polyester Multicolor Abstract Eyelet ...  \n",
       "1  Sathiyas Cotton Bath Towel Specifications of S...  \n",
       "2  Eurospa Cotton Terry Face Towel Set Key Featur...  \n",
       "3  SANTOSH ROYAL FASHION Cotton Printed King size...  \n",
       "4  Jaipur Print Cotton Floral King sized Double B...  "
      ]
     },
     "execution_count": 4,
     "metadata": {},
     "output_type": "execute_result"
    }
   ],
   "source": [
    "df.head()"
   ]
  },
  {
   "cell_type": "markdown",
   "id": "1c535c28",
   "metadata": {},
   "source": [
    "## 1.3. Graines aléatoires"
   ]
  },
  {
   "cell_type": "code",
   "execution_count": 5,
   "id": "fabcbee0",
   "metadata": {},
   "outputs": [],
   "source": [
    "# Fixation de toutes les graines aléatoires (Python, NumPy et TensorFlow)\n",
    "random.seed(1)\n",
    "np.random.seed(1)\n",
    "tf.random.set_seed(1)"
   ]
  },
  {
   "cell_type": "markdown",
   "id": "1012639a",
   "metadata": {},
   "source": [
    "## 1.4. Préparation de data et de data_test"
   ]
  },
  {
   "cell_type": "markdown",
   "id": "74a2775d",
   "metadata": {},
   "source": [
    "Les 7 catégories de notre jeu de données sont en proportions égales. Chaque catégorie contient 150 individus. Alors pour séparer notre jeu de données en deux (data et data_test), nous allons appliquer une stratification afin d'éviter l'introduction de biais."
   ]
  },
  {
   "cell_type": "code",
   "execution_count": 6,
   "id": "d81df398",
   "metadata": {},
   "outputs": [],
   "source": [
    "data, data_test = train_test_split(df, test_size=0.2, stratify=df['category'])"
   ]
  },
  {
   "cell_type": "markdown",
   "id": "f28605b1",
   "metadata": {},
   "source": [
    "### 1.4.1. data"
   ]
  },
  {
   "cell_type": "code",
   "execution_count": 7,
   "id": "2847be66",
   "metadata": {},
   "outputs": [
    {
     "data": {
      "text/plain": [
       "(840, 3)"
      ]
     },
     "execution_count": 7,
     "metadata": {},
     "output_type": "execute_result"
    }
   ],
   "source": [
    "data.shape"
   ]
  },
  {
   "cell_type": "code",
   "execution_count": 8,
   "id": "f8eeaa0d",
   "metadata": {},
   "outputs": [
    {
     "data": {
      "text/html": [
       "<div>\n",
       "<style scoped>\n",
       "    .dataframe tbody tr th:only-of-type {\n",
       "        vertical-align: middle;\n",
       "    }\n",
       "\n",
       "    .dataframe tbody tr th {\n",
       "        vertical-align: top;\n",
       "    }\n",
       "\n",
       "    .dataframe thead th {\n",
       "        text-align: right;\n",
       "    }\n",
       "</style>\n",
       "<table border=\"1\" class=\"dataframe\">\n",
       "  <thead>\n",
       "    <tr style=\"text-align: right;\">\n",
       "      <th></th>\n",
       "      <th>category</th>\n",
       "      <th>image_path</th>\n",
       "      <th>name_and_description</th>\n",
       "    </tr>\n",
       "  </thead>\n",
       "  <tbody>\n",
       "    <tr>\n",
       "      <th>689</th>\n",
       "      <td>Kitchen &amp; Dining</td>\n",
       "      <td>Flipkart/Images/55195de3873fffaa9e37b041533d73...</td>\n",
       "      <td>Philips 9.5 W LED B22 3000K A55 IND Bulb Buy P...</td>\n",
       "    </tr>\n",
       "    <tr>\n",
       "      <th>56</th>\n",
       "      <td>Beauty and Personal Care</td>\n",
       "      <td>Flipkart/Images/24e85c590481a7cedfe66597f253f2...</td>\n",
       "      <td>Borse N16 Make Up And Jewellery Vanity Case Bu...</td>\n",
       "    </tr>\n",
       "    <tr>\n",
       "      <th>96</th>\n",
       "      <td>Home Decor &amp; Festive Needs</td>\n",
       "      <td>Flipkart/Images/f12a06b7dbfc55638afafcf8bb03d8...</td>\n",
       "      <td>My Angel Gifts Show Piece Showpiece  -  5 cm B...</td>\n",
       "    </tr>\n",
       "    <tr>\n",
       "      <th>326</th>\n",
       "      <td>Computers</td>\n",
       "      <td>Flipkart/Images/c75d6d827876b0d0127acb59e5a251...</td>\n",
       "      <td>TRENDnet TEW-752DRU Buy TRENDnet TEW-752DRU on...</td>\n",
       "    </tr>\n",
       "    <tr>\n",
       "      <th>864</th>\n",
       "      <td>Computers</td>\n",
       "      <td>Flipkart/Images/19d2dbc1789653c58bce08c169662c...</td>\n",
       "      <td>RCE HP ProBook 4430s 6 Cell Laptop Battery Buy...</td>\n",
       "    </tr>\n",
       "  </tbody>\n",
       "</table>\n",
       "</div>"
      ],
      "text/plain": [
       "                       category  \\\n",
       "689            Kitchen & Dining   \n",
       "56     Beauty and Personal Care   \n",
       "96   Home Decor & Festive Needs   \n",
       "326                   Computers   \n",
       "864                   Computers   \n",
       "\n",
       "                                            image_path  \\\n",
       "689  Flipkart/Images/55195de3873fffaa9e37b041533d73...   \n",
       "56   Flipkart/Images/24e85c590481a7cedfe66597f253f2...   \n",
       "96   Flipkart/Images/f12a06b7dbfc55638afafcf8bb03d8...   \n",
       "326  Flipkart/Images/c75d6d827876b0d0127acb59e5a251...   \n",
       "864  Flipkart/Images/19d2dbc1789653c58bce08c169662c...   \n",
       "\n",
       "                                  name_and_description  \n",
       "689  Philips 9.5 W LED B22 3000K A55 IND Bulb Buy P...  \n",
       "56   Borse N16 Make Up And Jewellery Vanity Case Bu...  \n",
       "96   My Angel Gifts Show Piece Showpiece  -  5 cm B...  \n",
       "326  TRENDnet TEW-752DRU Buy TRENDnet TEW-752DRU on...  \n",
       "864  RCE HP ProBook 4430s 6 Cell Laptop Battery Buy...  "
      ]
     },
     "execution_count": 8,
     "metadata": {},
     "output_type": "execute_result"
    }
   ],
   "source": [
    "data.head()"
   ]
  },
  {
   "cell_type": "code",
   "execution_count": 9,
   "id": "89057533",
   "metadata": {},
   "outputs": [
    {
     "data": {
      "text/plain": [
       "Baby Care                     120\n",
       "Watches                       120\n",
       "Kitchen & Dining              120\n",
       "Home Furnishing               120\n",
       "Home Decor & Festive Needs    120\n",
       "Computers                     120\n",
       "Beauty and Personal Care      120\n",
       "Name: category, dtype: int64"
      ]
     },
     "execution_count": 9,
     "metadata": {},
     "output_type": "execute_result"
    }
   ],
   "source": [
    "data['category'].value_counts()"
   ]
  },
  {
   "cell_type": "code",
   "execution_count": 10,
   "id": "9dd2059a",
   "metadata": {},
   "outputs": [
    {
     "data": {
      "image/png": "[encoded data removed]",
      "text/plain": [
       "<Figure size 432x288 with 1 Axes>"
      ]
     },
     "metadata": {},
     "output_type": "display_data"
    }
   ],
   "source": [
    "plt.pie(x=data['category'].value_counts(),\n",
    "        labels=df['category'].value_counts().index,\n",
    "        autopct='%1.2f%%')\n",
    "plt.show()"
   ]
  },
  {
   "cell_type": "markdown",
   "id": "9c0eed0e",
   "metadata": {},
   "source": [
    "### 1.4.2. data_test"
   ]
  },
  {
   "cell_type": "code",
   "execution_count": 11,
   "id": "3ff3b6c9",
   "metadata": {},
   "outputs": [
    {
     "data": {
      "text/plain": [
       "(210, 3)"
      ]
     },
     "execution_count": 11,
     "metadata": {},
     "output_type": "execute_result"
    }
   ],
   "source": [
    "data_test.shape"
   ]
  },
  {
   "cell_type": "code",
   "execution_count": 12,
   "id": "aaaea8c6",
   "metadata": {},
   "outputs": [
    {
     "data": {
      "text/html": [
       "<div>\n",
       "<style scoped>\n",
       "    .dataframe tbody tr th:only-of-type {\n",
       "        vertical-align: middle;\n",
       "    }\n",
       "\n",
       "    .dataframe tbody tr th {\n",
       "        vertical-align: top;\n",
       "    }\n",
       "\n",
       "    .dataframe thead th {\n",
       "        text-align: right;\n",
       "    }\n",
       "</style>\n",
       "<table border=\"1\" class=\"dataframe\">\n",
       "  <thead>\n",
       "    <tr style=\"text-align: right;\">\n",
       "      <th></th>\n",
       "      <th>category</th>\n",
       "      <th>image_path</th>\n",
       "      <th>name_and_description</th>\n",
       "    </tr>\n",
       "  </thead>\n",
       "  <tbody>\n",
       "    <tr>\n",
       "      <th>276</th>\n",
       "      <td>Watches</td>\n",
       "      <td>Flipkart/Images/14826adf9bc4c34ea566dae3d85ef7...</td>\n",
       "      <td>Pittsburgh Polo Club PBPC-505-GRN Analog Watch...</td>\n",
       "    </tr>\n",
       "    <tr>\n",
       "      <th>1017</th>\n",
       "      <td>Home Furnishing</td>\n",
       "      <td>Flipkart/Images/4748b7ea0e01cffa561f1a7a7a4328...</td>\n",
       "      <td>Aroma Comfort Polyester Cream Self Design Eyel...</td>\n",
       "    </tr>\n",
       "    <tr>\n",
       "      <th>687</th>\n",
       "      <td>Beauty and Personal Care</td>\n",
       "      <td>Flipkart/Images/d61b368146f83075937e144dab93c6...</td>\n",
       "      <td>Jovees Anjeer &amp; Carrot Sunblock (Pack of 2) - ...</td>\n",
       "    </tr>\n",
       "    <tr>\n",
       "      <th>897</th>\n",
       "      <td>Home Furnishing</td>\n",
       "      <td>Flipkart/Images/e1e2883b6845cb214ec8d365cd4960...</td>\n",
       "      <td>NKP Cotton Hand Towel NKP Cotton Hand Towel (H...</td>\n",
       "    </tr>\n",
       "    <tr>\n",
       "      <th>85</th>\n",
       "      <td>Home Decor &amp; Festive Needs</td>\n",
       "      <td>Flipkart/Images/61c0139f3d5c97f1615797dbf046cc...</td>\n",
       "      <td>Smart Wall Guru Medium Adhesive Sticker Key Fe...</td>\n",
       "    </tr>\n",
       "  </tbody>\n",
       "</table>\n",
       "</div>"
      ],
      "text/plain": [
       "                        category  \\\n",
       "276                      Watches   \n",
       "1017             Home Furnishing   \n",
       "687     Beauty and Personal Care   \n",
       "897              Home Furnishing   \n",
       "85    Home Decor & Festive Needs   \n",
       "\n",
       "                                             image_path  \\\n",
       "276   Flipkart/Images/14826adf9bc4c34ea566dae3d85ef7...   \n",
       "1017  Flipkart/Images/4748b7ea0e01cffa561f1a7a7a4328...   \n",
       "687   Flipkart/Images/d61b368146f83075937e144dab93c6...   \n",
       "897   Flipkart/Images/e1e2883b6845cb214ec8d365cd4960...   \n",
       "85    Flipkart/Images/61c0139f3d5c97f1615797dbf046cc...   \n",
       "\n",
       "                                   name_and_description  \n",
       "276   Pittsburgh Polo Club PBPC-505-GRN Analog Watch...  \n",
       "1017  Aroma Comfort Polyester Cream Self Design Eyel...  \n",
       "687   Jovees Anjeer & Carrot Sunblock (Pack of 2) - ...  \n",
       "897   NKP Cotton Hand Towel NKP Cotton Hand Towel (H...  \n",
       "85    Smart Wall Guru Medium Adhesive Sticker Key Fe...  "
      ]
     },
     "execution_count": 12,
     "metadata": {},
     "output_type": "execute_result"
    }
   ],
   "source": [
    "data_test.head()"
   ]
  },
  {
   "cell_type": "code",
   "execution_count": 13,
   "id": "eee99864",
   "metadata": {},
   "outputs": [
    {
     "data": {
      "text/plain": [
       "Kitchen & Dining              30\n",
       "Home Furnishing               30\n",
       "Computers                     30\n",
       "Home Decor & Festive Needs    30\n",
       "Beauty and Personal Care      30\n",
       "Watches                       30\n",
       "Baby Care                     30\n",
       "Name: category, dtype: int64"
      ]
     },
     "execution_count": 13,
     "metadata": {},
     "output_type": "execute_result"
    }
   ],
   "source": [
    "data_test['category'].value_counts()"
   ]
  },
  {
   "cell_type": "code",
   "execution_count": 14,
   "id": "f0ac5e54",
   "metadata": {},
   "outputs": [
    {
     "data": {
      "image/png": "[encoded data removed]",
      "text/plain": [
       "<Figure size 432x288 with 1 Axes>"
      ]
     },
     "metadata": {},
     "output_type": "display_data"
    }
   ],
   "source": [
    "plt.pie(x=data_test['category'].value_counts(),\n",
    "        labels=df['category'].value_counts().index,\n",
    "        autopct='%1.2f%%')\n",
    "plt.show()"
   ]
  },
  {
   "cell_type": "markdown",
   "id": "3d25c622",
   "metadata": {},
   "source": [
    "# 2. Classification supervisée"
   ]
  },
  {
   "cell_type": "markdown",
   "id": "754f3ace",
   "metadata": {},
   "source": [
    "Dans le but d'effectuer de la classification supervisée, nous allons réaliser du transfert learning, qui consiste à utiliser des modèles pré-entraînés. Nous emploierons notamment le modèle VGG-16 qui est un réseau de neurones à convolution (CNN) pré-entraîné sur ImageNet.\n",
    "\n",
    "Pour entraîner et évaluer chaque modèle d'apprentissage profond, nous réaliserons la séparation des données de la manière suivante :\n",
    "- Jeu d'entraînement : afin d'entraîner le modèle\n",
    "- Jeu de validation : afin d'optimiser la fonction de perte (loss) qui sera l'entropie croisée (cross-entropy).\n",
    "- Jeu de test : afin d'évaluer la performance du modèle sur de nouvelles données.\n",
    "\n",
    "Pour évaluer la performance de nos modèles d'apprentissage profond, nous ferons appel aux critères suivants :\n",
    " - Accuracy : Calcul de la proportion d'étiquettes prédites équivalentes aux vrais étiquettes. Nous estimerons plus particulièrement l'accuracy sur le jeu de test.\n",
    " - Temps d'entraînement : Le temps nécessaire pour l'entraînement du modèle."
   ]
  },
  {
   "cell_type": "code",
   "execution_count": 15,
   "id": "f457b45c",
   "metadata": {},
   "outputs": [],
   "source": [
    "score_df = pd.DataFrame(\n",
    "    columns=['Approche','Fit Time', 'Accuracy'])\n",
    "score_df.set_index('Approche', inplace=True)"
   ]
  },
  {
   "cell_type": "markdown",
   "id": "1036149c",
   "metadata": {},
   "source": [
    "## 2.1. Approche par préparation initiale des images"
   ]
  },
  {
   "cell_type": "markdown",
   "id": "ea45ef26",
   "metadata": {},
   "source": [
    "**Modèle de classification**\n",
    "\n",
    "Nous allons créer un modèle de classification à partir du modèle VGG-16. Pour cela, nous allons retirer les dernières couches du modèle VGG-16 et garder les poids des premières couches (les couches restantes). Ensuite nous allons ajouter un nouveau classifieur à ce modèle tronqué pour le compléter. Par la suite, nous entraînerons uniquement le nouveau classifieur."
   ]
  },
  {
   "cell_type": "code",
   "execution_count": 16,
   "id": "bef182b3",
   "metadata": {},
   "outputs": [],
   "source": [
    "def create_model():\n",
    "    # Chargement de VGG-16 pré-entraîné sur ImageNet et sans les couches fully-connected\n",
    "    model0 = VGG16(weights=\"imagenet\", include_top=False, input_shape=(224, 224, 3))\n",
    "\n",
    "    # Conservation des poids du modèle pré-entraîné\n",
    "    for layer in model0.layers:\n",
    "        layer.trainable = False\n",
    "    \n",
    "    # Récupération de la sortie de ce réseau\n",
    "    x = model0.output\n",
    "\n",
    "    # Complétion du modèle\n",
    "    x = GlobalAveragePooling2D()(x)  # Average pooling\n",
    "    x = Dense(256, activation='relu')(x)  # Correction ReLu\n",
    "    x = Dropout(0.5)(x)  # Attribution de la valeur 0 à la moitié des entrées\n",
    "    predictions = Dense(7, activation='softmax')(x)  # Classification à 7 classes\n",
    "\n",
    "    # Définition du nouveau modèle\n",
    "    model = Model(inputs=model0.input, outputs=predictions)\n",
    "\n",
    "    # Compilation du modèle\n",
    "    model.compile(loss='categorical_crossentropy', optimizer='rmsprop', metrics=['accuracy'])\n",
    "    \n",
    "    return model"
   ]
  },
  {
   "cell_type": "code",
   "execution_count": 17,
   "id": "fd2694d7",
   "metadata": {},
   "outputs": [
    {
     "name": "stdout",
     "output_type": "stream",
     "text": [
      "Model: \"model\"\n",
      "_________________________________________________________________\n",
      "Layer (type)                 Output Shape              Param #   \n",
      "=================================================================\n",
      "input_1 (InputLayer)         [(None, 224, 224, 3)]     0         \n",
      "_________________________________________________________________\n",
      "block1_conv1 (Conv2D)        (None, 224, 224, 64)      1792      \n",
      "_________________________________________________________________\n",
      "block1_conv2 (Conv2D)        (None, 224, 224, 64)      36928     \n",
      "_________________________________________________________________\n",
      "block1_pool (MaxPooling2D)   (None, 112, 112, 64)      0         \n",
      "_________________________________________________________________\n",
      "block2_conv1 (Conv2D)        (None, 112, 112, 128)     73856     \n",
      "_________________________________________________________________\n",
      "block2_conv2 (Conv2D)        (None, 112, 112, 128)     147584    \n",
      "_________________________________________________________________\n",
      "block2_pool (MaxPooling2D)   (None, 56, 56, 128)       0         \n",
      "_________________________________________________________________\n",
      "block3_conv1 (Conv2D)        (None, 56, 56, 256)       295168    \n",
      "_________________________________________________________________\n",
      "block3_conv2 (Conv2D)        (None, 56, 56, 256)       590080    \n",
      "_________________________________________________________________\n",
      "block3_conv3 (Conv2D)        (None, 56, 56, 256)       590080    \n",
      "_________________________________________________________________\n",
      "block3_pool (MaxPooling2D)   (None, 28, 28, 256)       0         \n",
      "_________________________________________________________________\n",
      "block4_conv1 (Conv2D)        (None, 28, 28, 512)       1180160   \n",
      "_________________________________________________________________\n",
      "block4_conv2 (Conv2D)        (None, 28, 28, 512)       2359808   \n",
      "_________________________________________________________________\n",
      "block4_conv3 (Conv2D)        (None, 28, 28, 512)       2359808   \n",
      "_________________________________________________________________\n",
      "block4_pool (MaxPooling2D)   (None, 14, 14, 512)       0         \n",
      "_________________________________________________________________\n",
      "block5_conv1 (Conv2D)        (None, 14, 14, 512)       2359808   \n",
      "_________________________________________________________________\n",
      "block5_conv2 (Conv2D)        (None, 14, 14, 512)       2359808   \n",
      "_________________________________________________________________\n",
      "block5_conv3 (Conv2D)        (None, 14, 14, 512)       2359808   \n",
      "_________________________________________________________________\n",
      "block5_pool (MaxPooling2D)   (None, 7, 7, 512)         0         \n",
      "_________________________________________________________________\n",
      "global_average_pooling2d (Gl (None, 512)               0         \n",
      "_________________________________________________________________\n",
      "dense (Dense)                (None, 256)               131328    \n",
      "_________________________________________________________________\n",
      "dropout (Dropout)            (None, 256)               0         \n",
      "_________________________________________________________________\n",
      "dense_1 (Dense)              (None, 7)                 1799      \n",
      "=================================================================\n",
      "Total params: 14,847,815\n",
      "Trainable params: 133,127\n",
      "Non-trainable params: 14,714,688\n",
      "_________________________________________________________________\n"
     ]
    }
   ],
   "source": [
    "model1 = create_model()\n",
    "model1.summary()"
   ]
  },
  {
   "cell_type": "markdown",
   "id": "d1e65d57",
   "metadata": {},
   "source": [
    "**Préparation initiale des images**"
   ]
  },
  {
   "cell_type": "code",
   "execution_count": 18,
   "id": "f493cd6d",
   "metadata": {},
   "outputs": [],
   "source": [
    "def img_prep(col):\n",
    "    # Liste vide pour enregistrer les images converties en vecteurs\n",
    "    prepared_img = []\n",
    "\n",
    "    for i in col:\n",
    "        # Chargement et redimensionnement de l'image\n",
    "        img = load_img(i, target_size=(224, 224))\n",
    "\n",
    "        # Conversion en array (numpy)\n",
    "        img = img_to_array(img)\n",
    "\n",
    "        # Changement de la forme de l'image\n",
    "        img = img.reshape(\n",
    "            (img.shape[0],  # Largeur\n",
    "             img.shape[1],  # Hauteur\n",
    "             img.shape[2])  # Profondeur\n",
    "        )\n",
    "        \n",
    "        # Prétraitement de l'image comme le veut VGG-16\n",
    "        img = preprocess_input(img)\n",
    "        \n",
    "        # Enregistrement de l'image convertie en vecteur\n",
    "        prepared_img.append(img)\n",
    "    \n",
    "    # Conversion de la liste en array\n",
    "    prepared_img = np.array(prepared_img)\n",
    "    \n",
    "    return prepared_img"
   ]
  },
  {
   "cell_type": "code",
   "execution_count": 19,
   "id": "579e7dfa",
   "metadata": {},
   "outputs": [],
   "source": [
    "y = LabelEncoder().fit_transform(data['category'])\n",
    "y = to_categorical(y)\n",
    "\n",
    "X = img_prep(data['image_path'])\n",
    "\n",
    "# Séparation du jeu d'entraînement et du jeu de validation\n",
    "X_train, X_val, y_train, y_val = train_test_split(\n",
    "    X, y, stratify=y, test_size=0.25)"
   ]
  },
  {
   "cell_type": "markdown",
   "id": "5e6d7c7e",
   "metadata": {},
   "source": [
    "Jeu d'entraînement :"
   ]
  },
  {
   "cell_type": "code",
   "execution_count": 20,
   "id": "a0b9baa8",
   "metadata": {},
   "outputs": [
    {
     "name": "stdout",
     "output_type": "stream",
     "text": [
      "X_train: (630, 224, 224, 3)\n",
      "y_train: (630, 7)\n"
     ]
    }
   ],
   "source": [
    "print('X_train:', X_train.shape)\n",
    "print('y_train:', y_train.shape)"
   ]
  },
  {
   "cell_type": "markdown",
   "id": "d6f39040",
   "metadata": {},
   "source": [
    "Jeu de validation :"
   ]
  },
  {
   "cell_type": "code",
   "execution_count": 21,
   "id": "5cc05d7f",
   "metadata": {},
   "outputs": [
    {
     "name": "stdout",
     "output_type": "stream",
     "text": [
      "X_val: (210, 224, 224, 3)\n",
      "y_val: (210, 7)\n"
     ]
    }
   ],
   "source": [
    "print('X_val:', X_val.shape)\n",
    "print('y_val:', y_val.shape)"
   ]
  },
  {
   "cell_type": "markdown",
   "id": "ce5b786d",
   "metadata": {},
   "source": [
    "Jeu de test :"
   ]
  },
  {
   "cell_type": "code",
   "execution_count": 22,
   "id": "f1932706",
   "metadata": {},
   "outputs": [
    {
     "name": "stderr",
     "output_type": "stream",
     "text": [
      "C:\\Users\\mauri\\.conda\\envs\\pro6\\lib\\site-packages\\PIL\\Image.py:2914: DecompressionBombWarning: Image size (93680328 pixels) exceeds limit of 89478485 pixels, could be decompression bomb DOS attack.\n",
      "  DecompressionBombWarning,\n"
     ]
    },
    {
     "name": "stdout",
     "output_type": "stream",
     "text": [
      "X_test: (210, 224, 224, 3)\n",
      "y_test: (210, 7)\n"
     ]
    }
   ],
   "source": [
    "y_test = LabelEncoder().fit_transform(data_test['category'])\n",
    "y_test = to_categorical(y_test)\n",
    "\n",
    "X_test = img_prep(data_test['image_path'])\n",
    "\n",
    "print('X_test:', X_test.shape)\n",
    "print('y_test:', y_test.shape)"
   ]
  },
  {
   "cell_type": "markdown",
   "id": "c8bc3b81",
   "metadata": {},
   "source": [
    "**Entraînement**"
   ]
  },
  {
   "cell_type": "code",
   "execution_count": 23,
   "id": "d6794d88",
   "metadata": {},
   "outputs": [],
   "source": [
    "def create_callbacks(path):\n",
    "    checkpoint = ModelCheckpoint(\n",
    "        path, monitor='val_loss', verbose=1, save_best_only=True, mode='min')\n",
    "\n",
    "    es = EarlyStopping(monitor='val_loss', mode='min', verbose=1, patience=5)\n",
    "\n",
    "    callbacks_list = [checkpoint, es]\n",
    "\n",
    "    return callbacks_list"
   ]
  },
  {
   "cell_type": "code",
   "execution_count": 24,
   "id": "4fb30b03",
   "metadata": {},
   "outputs": [],
   "source": [
    "# Création des callbacks\n",
    "model1_save_path = './model1_best_weights.h5'\n",
    "callbacks_list = create_callbacks(model1_save_path)"
   ]
  },
  {
   "cell_type": "code",
   "execution_count": 25,
   "id": "13a0c2f6",
   "metadata": {},
   "outputs": [
    {
     "name": "stdout",
     "output_type": "stream",
     "text": [
      "Epoch 1/50\n",
      "20/20 [==============================] - 167s 8s/step - loss: 5.0628 - accuracy: 0.4444 - val_loss: 1.4182 - val_accuracy: 0.7714\n",
      "\n",
      "Epoch 00001: val_loss improved from inf to 1.41818, saving model to .\\model1_best_weights.h5\n",
      "Epoch 2/50\n",
      "20/20 [==============================] - 166s 8s/step - loss: 1.8255 - accuracy: 0.6825 - val_loss: 1.2522 - val_accuracy: 0.7905\n",
      "\n",
      "Epoch 00002: val_loss improved from 1.41818 to 1.25220, saving model to .\\model1_best_weights.h5\n",
      "Epoch 3/50\n",
      "20/20 [==============================] - 169s 9s/step - loss: 1.0536 - accuracy: 0.7698 - val_loss: 1.1576 - val_accuracy: 0.7857\n",
      "\n",
      "Epoch 00003: val_loss improved from 1.25220 to 1.15756, saving model to .\\model1_best_weights.h5\n",
      "Epoch 4/50\n",
      "20/20 [==============================] - 170s 9s/step - loss: 0.7834 - accuracy: 0.8048 - val_loss: 1.1474 - val_accuracy: 0.7714\n",
      "\n",
      "Epoch 00004: val_loss improved from 1.15756 to 1.14742, saving model to .\\model1_best_weights.h5\n",
      "Epoch 5/50\n",
      "20/20 [==============================] - 169s 9s/step - loss: 0.5842 - accuracy: 0.8476 - val_loss: 0.9316 - val_accuracy: 0.7667\n",
      "\n",
      "Epoch 00005: val_loss improved from 1.14742 to 0.93158, saving model to .\\model1_best_weights.h5\n",
      "Epoch 6/50\n",
      "20/20 [==============================] - 169s 9s/step - loss: 0.4622 - accuracy: 0.8794 - val_loss: 0.8612 - val_accuracy: 0.8000\n",
      "\n",
      "Epoch 00006: val_loss improved from 0.93158 to 0.86115, saving model to .\\model1_best_weights.h5\n",
      "Epoch 7/50\n",
      "20/20 [==============================] - 169s 9s/step - loss: 0.3823 - accuracy: 0.8810 - val_loss: 0.9068 - val_accuracy: 0.8000\n",
      "\n",
      "Epoch 00007: val_loss did not improve from 0.86115\n",
      "Epoch 8/50\n",
      "20/20 [==============================] - 169s 9s/step - loss: 0.2139 - accuracy: 0.9206 - val_loss: 0.9259 - val_accuracy: 0.8190\n",
      "\n",
      "Epoch 00008: val_loss did not improve from 0.86115\n",
      "Epoch 9/50\n",
      "20/20 [==============================] - 169s 9s/step - loss: 0.2284 - accuracy: 0.9286 - val_loss: 0.9848 - val_accuracy: 0.8048\n",
      "\n",
      "Epoch 00009: val_loss did not improve from 0.86115\n",
      "Epoch 10/50\n",
      "20/20 [==============================] - 170s 9s/step - loss: 0.1872 - accuracy: 0.9222 - val_loss: 0.9336 - val_accuracy: 0.8000\n",
      "\n",
      "Epoch 00010: val_loss did not improve from 0.86115\n",
      "Epoch 11/50\n",
      "20/20 [==============================] - 169s 9s/step - loss: 0.1660 - accuracy: 0.9381 - val_loss: 1.0794 - val_accuracy: 0.7857\n",
      "\n",
      "Epoch 00011: val_loss did not improve from 0.86115\n",
      "Epoch 00011: early stopping\n"
     ]
    }
   ],
   "source": [
    "# Entraînement du modèle sur les données d'entraînement (X_train, y_train) et mesure du temps\n",
    "start_time = timeit.default_timer()\n",
    "history1 = model1.fit(X_train,\n",
    "                      y_train,\n",
    "                      epochs=50,\n",
    "                      batch_size=32,\n",
    "                      callbacks=callbacks_list,\n",
    "                      validation_data=(X_val, y_val),\n",
    "                      verbose=1)\n",
    "stop_time = timeit.default_timer()"
   ]
  },
  {
   "cell_type": "code",
   "execution_count": 26,
   "id": "2050a394",
   "metadata": {},
   "outputs": [
    {
     "name": "stdout",
     "output_type": "stream",
     "text": [
      "Fit Time: 1858s | 30.97min\n"
     ]
    }
   ],
   "source": [
    "# Temps d'entraînement\n",
    "fit_time = stop_time - start_time\n",
    "print(\"Fit Time: {:.0f}s | {:.2f}min\".format(fit_time, fit_time/60))"
   ]
  },
  {
   "cell_type": "code",
   "execution_count": 27,
   "id": "047aaed6",
   "metadata": {},
   "outputs": [
    {
     "data": {
      "image/png": "[encoded data removed]",
      "text/plain": [
       "<Figure size 1000x500 with 2 Axes>"
      ]
     },
     "metadata": {
      "needs_background": "light"
     },
     "output_type": "display_data"
    }
   ],
   "source": [
    "show_history(history1)"
   ]
  },
  {
   "cell_type": "markdown",
   "id": "7a627bc4",
   "metadata": {},
   "source": [
    "Sur ce graphique, nous pouvons voir que la perte du jeu d'entraînement diminue en fonction des itérations (epochs), tandis que la perte du jeu de test arrête rapidement de diminuer (d'où l'arrêt précoce des itérations). Par conséquent, nous avons un problème de sur-apprentissage."
   ]
  },
  {
   "cell_type": "code",
   "execution_count": 28,
   "id": "7197f2ba",
   "metadata": {},
   "outputs": [
    {
     "name": "stdout",
     "output_type": "stream",
     "text": [
      "Validation Accuracy :  0.8000\n",
      "Test Accuracy       :  0.8333\n"
     ]
    }
   ],
   "source": [
    "# Score de l'epoch optimal\n",
    "\n",
    "model1.load_weights(model1_save_path)\n",
    "\n",
    "loss, accuracy = model1.evaluate(X_val, y_val, verbose=False)\n",
    "print(\"Validation Accuracy :  {:.4f}\".format(accuracy))\n",
    "\n",
    "loss, accuracy = model1.evaluate(X_test, y_test, verbose=False)\n",
    "print(\"Test Accuracy       :  {:.4f}\".format(accuracy))"
   ]
  },
  {
   "cell_type": "markdown",
   "id": "aab854d6",
   "metadata": {},
   "source": [
    "L'accuracy du jeu de test (pour l'epoch optimal) est décente et est proche de celle du jeu de validation."
   ]
  },
  {
   "cell_type": "code",
   "execution_count": 29,
   "id": "0e8c5fa4",
   "metadata": {},
   "outputs": [],
   "source": [
    "# Enregistrement du temps d'entraînement et de l'accuracy (sur le jeu de test)\n",
    "score_df.loc['Préparation initiale des images'] = [fit_time, accuracy]"
   ]
  },
  {
   "cell_type": "markdown",
   "id": "fd73420d",
   "metadata": {},
   "source": [
    "## 2.2. Approche par ImageDataGenerator avec data augmentation"
   ]
  },
  {
   "cell_type": "markdown",
   "id": "b5f0a1ea",
   "metadata": {},
   "source": [
    "**Modèle de classification**"
   ]
  },
  {
   "cell_type": "code",
   "execution_count": 30,
   "id": "423a8ffc",
   "metadata": {},
   "outputs": [
    {
     "name": "stdout",
     "output_type": "stream",
     "text": [
      "Model: \"model_1\"\n",
      "_________________________________________________________________\n",
      "Layer (type)                 Output Shape              Param #   \n",
      "=================================================================\n",
      "input_2 (InputLayer)         [(None, 224, 224, 3)]     0         \n",
      "_________________________________________________________________\n",
      "block1_conv1 (Conv2D)        (None, 224, 224, 64)      1792      \n",
      "_________________________________________________________________\n",
      "block1_conv2 (Conv2D)        (None, 224, 224, 64)      36928     \n",
      "_________________________________________________________________\n",
      "block1_pool (MaxPooling2D)   (None, 112, 112, 64)      0         \n",
      "_________________________________________________________________\n",
      "block2_conv1 (Conv2D)        (None, 112, 112, 128)     73856     \n",
      "_________________________________________________________________\n",
      "block2_conv2 (Conv2D)        (None, 112, 112, 128)     147584    \n",
      "_________________________________________________________________\n",
      "block2_pool (MaxPooling2D)   (None, 56, 56, 128)       0         \n",
      "_________________________________________________________________\n",
      "block3_conv1 (Conv2D)        (None, 56, 56, 256)       295168    \n",
      "_________________________________________________________________\n",
      "block3_conv2 (Conv2D)        (None, 56, 56, 256)       590080    \n",
      "_________________________________________________________________\n",
      "block3_conv3 (Conv2D)        (None, 56, 56, 256)       590080    \n",
      "_________________________________________________________________\n",
      "block3_pool (MaxPooling2D)   (None, 28, 28, 256)       0         \n",
      "_________________________________________________________________\n",
      "block4_conv1 (Conv2D)        (None, 28, 28, 512)       1180160   \n",
      "_________________________________________________________________\n",
      "block4_conv2 (Conv2D)        (None, 28, 28, 512)       2359808   \n",
      "_________________________________________________________________\n",
      "block4_conv3 (Conv2D)        (None, 28, 28, 512)       2359808   \n",
      "_________________________________________________________________\n",
      "block4_pool (MaxPooling2D)   (None, 14, 14, 512)       0         \n",
      "_________________________________________________________________\n",
      "block5_conv1 (Conv2D)        (None, 14, 14, 512)       2359808   \n",
      "_________________________________________________________________\n",
      "block5_conv2 (Conv2D)        (None, 14, 14, 512)       2359808   \n",
      "_________________________________________________________________\n",
      "block5_conv3 (Conv2D)        (None, 14, 14, 512)       2359808   \n",
      "_________________________________________________________________\n",
      "block5_pool (MaxPooling2D)   (None, 7, 7, 512)         0         \n",
      "_________________________________________________________________\n",
      "global_average_pooling2d_1 ( (None, 512)               0         \n",
      "_________________________________________________________________\n",
      "dense_2 (Dense)              (None, 256)               131328    \n",
      "_________________________________________________________________\n",
      "dropout_1 (Dropout)          (None, 256)               0         \n",
      "_________________________________________________________________\n",
      "dense_3 (Dense)              (None, 7)                 1799      \n",
      "=================================================================\n",
      "Total params: 14,847,815\n",
      "Trainable params: 133,127\n",
      "Non-trainable params: 14,714,688\n",
      "_________________________________________________________________\n"
     ]
    }
   ],
   "source": [
    "model2 = create_model()\n",
    "model2.summary()"
   ]
  },
  {
   "cell_type": "markdown",
   "id": "e590e7c8",
   "metadata": {},
   "source": [
    "**ImageDataGenerator**"
   ]
  },
  {
   "cell_type": "code",
   "execution_count": 31,
   "id": "38cf291b",
   "metadata": {},
   "outputs": [],
   "source": [
    "datagen_train = ImageDataGenerator(\n",
    "    rotation_range=20,\n",
    "    width_shift_range=0.2,\n",
    "    height_shift_range=0.2,\n",
    "    horizontal_flip=True,\n",
    "    validation_split=0.25,\n",
    "    preprocessing_function=preprocess_input)\n",
    "\n",
    "datagen_test = ImageDataGenerator(\n",
    "    validation_split=0,\n",
    "    preprocessing_function=preprocess_input)"
   ]
  },
  {
   "cell_type": "code",
   "execution_count": 32,
   "id": "154c5f27",
   "metadata": {},
   "outputs": [],
   "source": [
    "def flow_from_df(df, datagen, data_type=None):\n",
    "    flow = datagen.flow_from_dataframe(\n",
    "        dataframe=df,\n",
    "        x_col='image_path',\n",
    "        y_col='category',\n",
    "        target_size=(256, 256),\n",
    "        class_mode='categorical',\n",
    "        batch_size=32,\n",
    "        shuffle=True,\n",
    "        subset=data_type)\n",
    "    \n",
    "    return flow"
   ]
  },
  {
   "cell_type": "code",
   "execution_count": 33,
   "id": "4b65e936",
   "metadata": {},
   "outputs": [
    {
     "name": "stdout",
     "output_type": "stream",
     "text": [
      "Found 630 validated image filenames belonging to 7 classes.\n",
      "Found 210 validated image filenames belonging to 7 classes.\n",
      "Found 210 validated image filenames belonging to 7 classes.\n"
     ]
    }
   ],
   "source": [
    "# Jeu d'entraînement\n",
    "flow_train = flow_from_df(df=data, datagen=datagen_train, data_type='training')\n",
    "\n",
    "# Jeu de validation\n",
    "flow_val = flow_from_df(df=data, datagen=datagen_train, data_type='validation')\n",
    "\n",
    "# Jeu de test\n",
    "flow_test = flow_from_df(df=data_test, datagen=datagen_test, data_type=None)"
   ]
  },
  {
   "cell_type": "markdown",
   "id": "c47021f4",
   "metadata": {},
   "source": [
    "**Entraînement**"
   ]
  },
  {
   "cell_type": "code",
   "execution_count": 34,
   "id": "23656b30",
   "metadata": {},
   "outputs": [],
   "source": [
    "# Création des callbacks\n",
    "model2_save_path = './model2_best_weights.h5'\n",
    "callbacks_list = create_callbacks(model2_save_path)"
   ]
  },
  {
   "cell_type": "code",
   "execution_count": 35,
   "id": "7c356649",
   "metadata": {
    "scrolled": false
   },
   "outputs": [
    {
     "name": "stdout",
     "output_type": "stream",
     "text": [
      "Epoch 1/50\n",
      "20/20 [==============================] - 227s 11s/step - loss: 4.1333 - accuracy: 0.4587 - val_loss: 1.2776 - val_accuracy: 0.7048\n",
      "\n",
      "Epoch 00001: val_loss improved from inf to 1.27762, saving model to .\\model2_best_weights.h5\n",
      "Epoch 2/50\n",
      "20/20 [==============================] - 225s 11s/step - loss: 1.6177 - accuracy: 0.6667 - val_loss: 1.3136 - val_accuracy: 0.7238\n",
      "\n",
      "Epoch 00002: val_loss did not improve from 1.27762\n",
      "Epoch 3/50\n",
      "20/20 [==============================] - 228s 11s/step - loss: 1.0177 - accuracy: 0.7508 - val_loss: 1.0999 - val_accuracy: 0.7190\n",
      "\n",
      "Epoch 00003: val_loss improved from 1.27762 to 1.09992, saving model to .\\model2_best_weights.h5\n",
      "Epoch 4/50\n",
      "20/20 [==============================] - 227s 11s/step - loss: 0.7788 - accuracy: 0.7810 - val_loss: 1.0982 - val_accuracy: 0.7381\n",
      "\n",
      "Epoch 00004: val_loss improved from 1.09992 to 1.09821, saving model to .\\model2_best_weights.h5\n",
      "Epoch 5/50\n",
      "20/20 [==============================] - 225s 11s/step - loss: 0.6065 - accuracy: 0.8317 - val_loss: 1.1230 - val_accuracy: 0.7619\n",
      "\n",
      "Epoch 00005: val_loss did not improve from 1.09821\n",
      "Epoch 6/50\n",
      "20/20 [==============================] - 225s 11s/step - loss: 0.4674 - accuracy: 0.8460 - val_loss: 1.1236 - val_accuracy: 0.7524\n",
      "\n",
      "Epoch 00006: val_loss did not improve from 1.09821\n",
      "Epoch 7/50\n",
      "20/20 [==============================] - 225s 11s/step - loss: 0.4365 - accuracy: 0.8683 - val_loss: 1.0760 - val_accuracy: 0.7619\n",
      "\n",
      "Epoch 00007: val_loss improved from 1.09821 to 1.07596, saving model to .\\model2_best_weights.h5\n",
      "Epoch 8/50\n",
      "20/20 [==============================] - 226s 11s/step - loss: 0.3979 - accuracy: 0.8714 - val_loss: 1.0777 - val_accuracy: 0.7762\n",
      "\n",
      "Epoch 00008: val_loss did not improve from 1.07596\n",
      "Epoch 9/50\n",
      "20/20 [==============================] - 226s 11s/step - loss: 0.3208 - accuracy: 0.8889 - val_loss: 1.0457 - val_accuracy: 0.7857\n",
      "\n",
      "Epoch 00009: val_loss improved from 1.07596 to 1.04566, saving model to .\\model2_best_weights.h5\n",
      "Epoch 10/50\n",
      "20/20 [==============================] - 225s 11s/step - loss: 0.2687 - accuracy: 0.9159 - val_loss: 0.9750 - val_accuracy: 0.7952\n",
      "\n",
      "Epoch 00010: val_loss improved from 1.04566 to 0.97500, saving model to .\\model2_best_weights.h5\n",
      "Epoch 11/50\n",
      "20/20 [==============================] - 225s 11s/step - loss: 0.2904 - accuracy: 0.8968 - val_loss: 1.2770 - val_accuracy: 0.7952\n",
      "\n",
      "Epoch 00011: val_loss did not improve from 0.97500\n",
      "Epoch 12/50\n",
      "20/20 [==============================] - 224s 11s/step - loss: 0.2728 - accuracy: 0.9175 - val_loss: 1.2210 - val_accuracy: 0.7762\n",
      "\n",
      "Epoch 00012: val_loss did not improve from 0.97500\n",
      "Epoch 13/50\n",
      "20/20 [==============================] - 225s 11s/step - loss: 0.2253 - accuracy: 0.9222 - val_loss: 1.1806 - val_accuracy: 0.7810\n",
      "\n",
      "Epoch 00013: val_loss did not improve from 0.97500\n",
      "Epoch 14/50\n",
      "20/20 [==============================] - 225s 11s/step - loss: 0.1820 - accuracy: 0.9286 - val_loss: 1.2362 - val_accuracy: 0.7762\n",
      "\n",
      "Epoch 00014: val_loss did not improve from 0.97500\n",
      "Epoch 15/50\n",
      "20/20 [==============================] - 226s 11s/step - loss: 0.1889 - accuracy: 0.9349 - val_loss: 1.2425 - val_accuracy: 0.7762\n",
      "\n",
      "Epoch 00015: val_loss did not improve from 0.97500\n",
      "Epoch 00015: early stopping\n"
     ]
    }
   ],
   "source": [
    "# Entraînement du modèle et mesure du temps\n",
    "start_time = timeit.default_timer()\n",
    "history2 = model2.fit(flow_train,\n",
    "                      validation_data=flow_val,\n",
    "                      epochs=50,\n",
    "                      batch_size=32,\n",
    "                      callbacks=callbacks_list,\n",
    "                      verbose=1)\n",
    "stop_time = timeit.default_timer()"
   ]
  },
  {
   "cell_type": "code",
   "execution_count": 36,
   "id": "75fca0e8",
   "metadata": {},
   "outputs": [
    {
     "name": "stdout",
     "output_type": "stream",
     "text": [
      "Fit Time: 3386s | 56.43min\n"
     ]
    }
   ],
   "source": [
    "# Temps d'entraînement\n",
    "fit_time = stop_time - start_time\n",
    "print(\"Fit Time: {:.0f}s | {:.2f}min\".format(fit_time, fit_time/60))"
   ]
  },
  {
   "cell_type": "code",
   "execution_count": 37,
   "id": "fd9bb8f6",
   "metadata": {},
   "outputs": [
    {
     "data": {
      "image/png": "[encoded data removed]",
      "text/plain": [
       "<Figure size 1000x500 with 2 Axes>"
      ]
     },
     "metadata": {
      "needs_background": "light"
     },
     "output_type": "display_data"
    }
   ],
   "source": [
    "show_history(history2)"
   ]
  },
  {
   "cell_type": "markdown",
   "id": "9ee3d1b1",
   "metadata": {},
   "source": [
    "Sur ce graphique, nous constatons que la perte du jeu d'entraînement diminue en fonction des itérations, alors que la perte du jeu de validation stagne (voire augmente) en fonction des itérations. Par conséquent, le modèle sur-apprend."
   ]
  },
  {
   "cell_type": "code",
   "execution_count": 38,
   "id": "237a25f2",
   "metadata": {},
   "outputs": [
    {
     "name": "stdout",
     "output_type": "stream",
     "text": [
      "Validation Accuracy :  0.7810\n"
     ]
    },
    {
     "name": "stderr",
     "output_type": "stream",
     "text": [
      "C:\\Users\\mauri\\.conda\\envs\\pro6\\lib\\site-packages\\PIL\\Image.py:2914: DecompressionBombWarning: Image size (93680328 pixels) exceeds limit of 89478485 pixels, could be decompression bomb DOS attack.\n",
      "  DecompressionBombWarning,\n"
     ]
    },
    {
     "name": "stdout",
     "output_type": "stream",
     "text": [
      "Test Accuracy       :  0.8429\n"
     ]
    }
   ],
   "source": [
    "# Score de l'epoch optimal\n",
    "\n",
    "model2.load_weights(model2_save_path)\n",
    "\n",
    "loss, accuracy = model2.evaluate(flow_val, verbose=False)\n",
    "print(\"Validation Accuracy :  {:.4f}\".format(accuracy))\n",
    "\n",
    "loss, accuracy = model2.evaluate(flow_test, verbose=False)\n",
    "print(\"Test Accuracy       :  {:.4f}\".format(accuracy))"
   ]
  },
  {
   "cell_type": "markdown",
   "id": "4ef3df74",
   "metadata": {},
   "source": [
    "L'accuracy du jeu de test est décente et est relativement proche de celle du jeu de validation."
   ]
  },
  {
   "cell_type": "code",
   "execution_count": 39,
   "id": "dceaf06a",
   "metadata": {},
   "outputs": [],
   "source": [
    "# Enregistrement du temps d'entraînement et de l'accuracy (sur le jeu de test)\n",
    "score_df.loc['ImageDataGenerator avec data augmentation'] = [fit_time, accuracy]"
   ]
  },
  {
   "cell_type": "markdown",
   "id": "a02cfa6e",
   "metadata": {},
   "source": [
    "## 2.3. Approche nouvelle par Dataset sans data augmentation"
   ]
  },
  {
   "cell_type": "markdown",
   "id": "332844a3",
   "metadata": {},
   "source": [
    "**Modèle de classification**"
   ]
  },
  {
   "cell_type": "code",
   "execution_count": 40,
   "id": "10cd1cb8",
   "metadata": {},
   "outputs": [
    {
     "name": "stdout",
     "output_type": "stream",
     "text": [
      "Model: \"model_2\"\n",
      "_________________________________________________________________\n",
      "Layer (type)                 Output Shape              Param #   \n",
      "=================================================================\n",
      "input_3 (InputLayer)         [(None, 224, 224, 3)]     0         \n",
      "_________________________________________________________________\n",
      "block1_conv1 (Conv2D)        (None, 224, 224, 64)      1792      \n",
      "_________________________________________________________________\n",
      "block1_conv2 (Conv2D)        (None, 224, 224, 64)      36928     \n",
      "_________________________________________________________________\n",
      "block1_pool (MaxPooling2D)   (None, 112, 112, 64)      0         \n",
      "_________________________________________________________________\n",
      "block2_conv1 (Conv2D)        (None, 112, 112, 128)     73856     \n",
      "_________________________________________________________________\n",
      "block2_conv2 (Conv2D)        (None, 112, 112, 128)     147584    \n",
      "_________________________________________________________________\n",
      "block2_pool (MaxPooling2D)   (None, 56, 56, 128)       0         \n",
      "_________________________________________________________________\n",
      "block3_conv1 (Conv2D)        (None, 56, 56, 256)       295168    \n",
      "_________________________________________________________________\n",
      "block3_conv2 (Conv2D)        (None, 56, 56, 256)       590080    \n",
      "_________________________________________________________________\n",
      "block3_conv3 (Conv2D)        (None, 56, 56, 256)       590080    \n",
      "_________________________________________________________________\n",
      "block3_pool (MaxPooling2D)   (None, 28, 28, 256)       0         \n",
      "_________________________________________________________________\n",
      "block4_conv1 (Conv2D)        (None, 28, 28, 512)       1180160   \n",
      "_________________________________________________________________\n",
      "block4_conv2 (Conv2D)        (None, 28, 28, 512)       2359808   \n",
      "_________________________________________________________________\n",
      "block4_conv3 (Conv2D)        (None, 28, 28, 512)       2359808   \n",
      "_________________________________________________________________\n",
      "block4_pool (MaxPooling2D)   (None, 14, 14, 512)       0         \n",
      "_________________________________________________________________\n",
      "block5_conv1 (Conv2D)        (None, 14, 14, 512)       2359808   \n",
      "_________________________________________________________________\n",
      "block5_conv2 (Conv2D)        (None, 14, 14, 512)       2359808   \n",
      "_________________________________________________________________\n",
      "block5_conv3 (Conv2D)        (None, 14, 14, 512)       2359808   \n",
      "_________________________________________________________________\n",
      "block5_pool (MaxPooling2D)   (None, 7, 7, 512)         0         \n",
      "_________________________________________________________________\n",
      "global_average_pooling2d_2 ( (None, 512)               0         \n",
      "_________________________________________________________________\n",
      "dense_4 (Dense)              (None, 256)               131328    \n",
      "_________________________________________________________________\n",
      "dropout_2 (Dropout)          (None, 256)               0         \n",
      "_________________________________________________________________\n",
      "dense_5 (Dense)              (None, 7)                 1799      \n",
      "=================================================================\n",
      "Total params: 14,847,815\n",
      "Trainable params: 133,127\n",
      "Non-trainable params: 14,714,688\n",
      "_________________________________________________________________\n"
     ]
    }
   ],
   "source": [
    "model3 = create_model()\n",
    "model3.summary()"
   ]
  },
  {
   "cell_type": "markdown",
   "id": "2abf6f21",
   "metadata": {},
   "source": [
    "**Dataset**\n",
    "\n",
    "Nous allons créer un répertoire de fichiers images (si inexistant) afin de pouvoir générer les Dataset. Pour cela, nous utiliserons nos données `data` et `data_test`."
   ]
  },
  {
   "cell_type": "code",
   "execution_count": 41,
   "id": "b5a12e2d",
   "metadata": {},
   "outputs": [],
   "source": [
    "path = './Flipkart/Images_per_category'\n",
    "\n",
    "if not os.path.exists(path):\n",
    "    # Pour chaque catégorie\n",
    "    for category in df['category'].unique():\n",
    "        # Création d'un nouveau sous-dossier pour data\n",
    "        data_folder = f'{path}/data/{category}'\n",
    "        os.makedirs(data_folder)\n",
    "\n",
    "        # Création d'un nouveau sous-dossier pour data_test\n",
    "        data_test_folder = f'{path}/data_test/{category}'\n",
    "        os.makedirs(data_test_folder)\n",
    "\n",
    "        # Images de data appartenant à la catégorie\n",
    "        data_paths = data.loc[data['category'] == category, 'image_path']\n",
    "        \n",
    "        # Images de data_test appartenant à la catégorie\n",
    "        data_test_paths = data_test.loc[data_test['category'] == category, 'image_path']\n",
    "\n",
    "        # Copie de chacune des images de data_paths vers le nouveau sous-dossier dans data\n",
    "        for img_path in data_paths:\n",
    "            shutil.copy(img_path, data_folder)\n",
    "\n",
    "        # Copie de chacune des images de data_test_paths vers le nouveau sous-dossier dans data_test\n",
    "        for img_path in data_test_paths:\n",
    "            shutil.copy(img_path, data_test_folder)"
   ]
  },
  {
   "cell_type": "markdown",
   "id": "1e86ffad",
   "metadata": {},
   "source": [
    "Fonction permettant de générer les Dataset :"
   ]
  },
  {
   "cell_type": "code",
   "execution_count": 42,
   "id": "e5d88b81",
   "metadata": {},
   "outputs": [],
   "source": [
    "def dataset(path, validation_split=0, data_type=None):\n",
    "    dataset = tf.keras.utils.image_dataset_from_directory(\n",
    "        path,\n",
    "        labels='inferred',\n",
    "        label_mode='categorical',\n",
    "        class_names=None,\n",
    "        batch_size=32,\n",
    "        image_size=(224, 224),\n",
    "        shuffle=True,\n",
    "        seed=1,\n",
    "        validation_split=validation_split,\n",
    "        subset=data_type)\n",
    "\n",
    "    return dataset"
   ]
  },
  {
   "cell_type": "code",
   "execution_count": 43,
   "id": "dbf4c22c",
   "metadata": {},
   "outputs": [
    {
     "name": "stdout",
     "output_type": "stream",
     "text": [
      "Found 840 files belonging to 7 classes.\n",
      "Using 630 files for training.\n",
      "Found 840 files belonging to 7 classes.\n",
      "Using 210 files for validation.\n",
      "Found 210 files belonging to 7 classes.\n"
     ]
    }
   ],
   "source": [
    "data_path = './Flipkart/Images_per_category/data'\n",
    "data_test_path = './Flipkart/Images_per_category/data_test'\n",
    "\n",
    "# Jeu d'entraînement\n",
    "dataset_train = dataset(data_path, validation_split=0.25, data_type='training')\n",
    "\n",
    "# Jeu de validation\n",
    "dataset_val = dataset(data_path, validation_split=0.25, data_type='validation')\n",
    "\n",
    "# Jeu de test\n",
    "dataset_test = dataset(data_test_path, validation_split=0, data_type=None)"
   ]
  },
  {
   "cell_type": "markdown",
   "id": "902d1848",
   "metadata": {},
   "source": [
    "**Entraînement**"
   ]
  },
  {
   "cell_type": "code",
   "execution_count": 44,
   "id": "84dff1dd",
   "metadata": {},
   "outputs": [],
   "source": [
    "# Création des callbacks\n",
    "model3_save_path = './model3_best_weights.h5'\n",
    "callbacks_list = create_callbacks(model3_save_path)"
   ]
  },
  {
   "cell_type": "code",
   "execution_count": 45,
   "id": "83fa0a3e",
   "metadata": {},
   "outputs": [
    {
     "name": "stdout",
     "output_type": "stream",
     "text": [
      "Epoch 1/50\n",
      "20/20 [==============================] - 175s 9s/step - loss: 6.5449 - accuracy: 0.4508 - val_loss: 1.4723 - val_accuracy: 0.7238\n",
      "\n",
      "Epoch 00001: val_loss improved from inf to 1.47235, saving model to .\\model3_best_weights.h5\n",
      "Epoch 2/50\n",
      "20/20 [==============================] - 173s 9s/step - loss: 2.5196 - accuracy: 0.6270 - val_loss: 0.9840 - val_accuracy: 0.7905\n",
      "\n",
      "Epoch 00002: val_loss improved from 1.47235 to 0.98401, saving model to .\\model3_best_weights.h5\n",
      "Epoch 3/50\n",
      "20/20 [==============================] - 172s 9s/step - loss: 1.4699 - accuracy: 0.7127 - val_loss: 0.9829 - val_accuracy: 0.7952\n",
      "\n",
      "Epoch 00003: val_loss improved from 0.98401 to 0.98286, saving model to .\\model3_best_weights.h5\n",
      "Epoch 4/50\n",
      "20/20 [==============================] - 172s 9s/step - loss: 1.0326 - accuracy: 0.7635 - val_loss: 0.7922 - val_accuracy: 0.8476\n",
      "\n",
      "Epoch 00004: val_loss improved from 0.98286 to 0.79220, saving model to .\\model3_best_weights.h5\n",
      "Epoch 5/50\n",
      "20/20 [==============================] - 172s 9s/step - loss: 0.7881 - accuracy: 0.8175 - val_loss: 0.8987 - val_accuracy: 0.8190\n",
      "\n",
      "Epoch 00005: val_loss did not improve from 0.79220\n",
      "Epoch 6/50\n",
      "20/20 [==============================] - 172s 9s/step - loss: 0.6187 - accuracy: 0.8476 - val_loss: 0.7595 - val_accuracy: 0.8190\n",
      "\n",
      "Epoch 00006: val_loss improved from 0.79220 to 0.75951, saving model to .\\model3_best_weights.h5\n",
      "Epoch 7/50\n",
      "20/20 [==============================] - 172s 9s/step - loss: 0.4852 - accuracy: 0.8651 - val_loss: 0.9854 - val_accuracy: 0.8286\n",
      "\n",
      "Epoch 00007: val_loss did not improve from 0.75951\n",
      "Epoch 8/50\n",
      "20/20 [==============================] - 171s 9s/step - loss: 0.3600 - accuracy: 0.8937 - val_loss: 0.7951 - val_accuracy: 0.8381\n",
      "\n",
      "Epoch 00008: val_loss did not improve from 0.75951\n",
      "Epoch 9/50\n",
      "20/20 [==============================] - 173s 9s/step - loss: 0.2376 - accuracy: 0.9286 - val_loss: 0.8477 - val_accuracy: 0.8381\n",
      "\n",
      "Epoch 00009: val_loss did not improve from 0.75951\n",
      "Epoch 10/50\n",
      "20/20 [==============================] - 172s 9s/step - loss: 0.2753 - accuracy: 0.9095 - val_loss: 0.8298 - val_accuracy: 0.8476\n",
      "\n",
      "Epoch 00010: val_loss did not improve from 0.75951\n",
      "Epoch 11/50\n",
      "20/20 [==============================] - 172s 9s/step - loss: 0.1756 - accuracy: 0.9413 - val_loss: 0.7802 - val_accuracy: 0.8571\n",
      "\n",
      "Epoch 00011: val_loss did not improve from 0.75951\n",
      "Epoch 00011: early stopping\n"
     ]
    }
   ],
   "source": [
    "# Entraînement du modèle et mesure du temps\n",
    "start_time = timeit.default_timer()\n",
    "history3 = model3.fit(dataset_train,\n",
    "                      validation_data=dataset_val,\n",
    "                      epochs=50,\n",
    "                      batch_size=32,\n",
    "                      callbacks=callbacks_list,\n",
    "                      verbose=1)\n",
    "stop_time = timeit.default_timer()"
   ]
  },
  {
   "cell_type": "code",
   "execution_count": 46,
   "id": "1ed07e7c",
   "metadata": {},
   "outputs": [
    {
     "name": "stdout",
     "output_type": "stream",
     "text": [
      "Fit Time: 1896s | 31.60min\n"
     ]
    }
   ],
   "source": [
    "# Temps d'entraînement\n",
    "fit_time = stop_time - start_time\n",
    "print(\"Fit Time: {:.0f}s | {:.2f}min\".format(fit_time, fit_time/60))"
   ]
  },
  {
   "cell_type": "code",
   "execution_count": 47,
   "id": "883458ee",
   "metadata": {},
   "outputs": [
    {
     "data": {
      "image/png": "[encoded data removed]",
      "text/plain": [
       "<Figure size 1000x500 with 2 Axes>"
      ]
     },
     "metadata": {
      "needs_background": "light"
     },
     "output_type": "display_data"
    }
   ],
   "source": [
    "show_history(history3)"
   ]
  },
  {
   "cell_type": "markdown",
   "id": "a6e88af9",
   "metadata": {},
   "source": [
    "Sur ce graphique, nous remarquons que la perte du jeu d'entraînement diminue avec les epochs, tandis que la perte du jeu de validation stagne avec les epochs. Par conséquent, le modèle sur-apprend."
   ]
  },
  {
   "cell_type": "code",
   "execution_count": 48,
   "id": "0819da7c",
   "metadata": {},
   "outputs": [
    {
     "name": "stdout",
     "output_type": "stream",
     "text": [
      "Validation Accuracy :  0.8190\n",
      "Test Accuracy       :  0.8286\n"
     ]
    }
   ],
   "source": [
    "# Score de l'epoch optimal\n",
    "\n",
    "model3.load_weights(model3_save_path)\n",
    "\n",
    "loss, accuracy = model3.evaluate(dataset_val, verbose=False)\n",
    "print(\"Validation Accuracy :  {:.4f}\".format(accuracy))\n",
    "\n",
    "loss, accuracy = model3.evaluate(dataset_test, verbose=False)\n",
    "print(\"Test Accuracy       :  {:.4f}\".format(accuracy))"
   ]
  },
  {
   "cell_type": "markdown",
   "id": "8fc72c16",
   "metadata": {},
   "source": [
    "L'accuracy du jeu de test est décente et très proche de celle du jeu de validation."
   ]
  },
  {
   "cell_type": "code",
   "execution_count": 49,
   "id": "0a8d2fa8",
   "metadata": {},
   "outputs": [],
   "source": [
    "# Enregistrement du temps d'entraînement et de l'accuracy (sur le jeu de test)\n",
    "score_df.loc['Dataset sans data augmentation'] = [fit_time, accuracy]"
   ]
  },
  {
   "cell_type": "markdown",
   "id": "12750af6",
   "metadata": {},
   "source": [
    "## 2.4. Approche nouvelle par Dataset avec data augmentation intégrée au modèle"
   ]
  },
  {
   "cell_type": "markdown",
   "id": "ac5f8ad4",
   "metadata": {},
   "source": [
    "**Modèle de classification**"
   ]
  },
  {
   "cell_type": "code",
   "execution_count": 50,
   "id": "50ffc426",
   "metadata": {},
   "outputs": [
    {
     "name": "stdout",
     "output_type": "stream",
     "text": [
      "Model: \"sequential_1\"\n",
      "_________________________________________________________________\n",
      "Layer (type)                 Output Shape              Param #   \n",
      "=================================================================\n",
      "sequential (Sequential)      (None, 224, 224, 3)       0         \n",
      "_________________________________________________________________\n",
      "rescaling (Rescaling)        (None, 224, 224, 3)       0         \n",
      "_________________________________________________________________\n",
      "vgg16 (Functional)           (None, 7, 7, 512)         14714688  \n",
      "_________________________________________________________________\n",
      "global_average_pooling2d_3 ( (None, 512)               0         \n",
      "_________________________________________________________________\n",
      "dense_6 (Dense)              (None, 256)               131328    \n",
      "_________________________________________________________________\n",
      "dropout_3 (Dropout)          (None, 256)               0         \n",
      "_________________________________________________________________\n",
      "dense_7 (Dense)              (None, 7)                 1799      \n",
      "=================================================================\n",
      "Total params: 14,847,815\n",
      "Trainable params: 133,127\n",
      "Non-trainable params: 14,714,688\n",
      "_________________________________________________________________\n"
     ]
    }
   ],
   "source": [
    "# Data augmentation\n",
    "data_augmentation = Sequential([\n",
    "    RandomFlip('horizontal', input_shape=(224, 224, 3)),\n",
    "    RandomRotation(0.1),\n",
    "    RandomZoom(0.1)\n",
    "])\n",
    "\n",
    "# Chargement de VGG-16 pré-entraîné sur ImageNet et sans les couches fully-connected\n",
    "model_base = VGG16(weights=\"imagenet\", include_top=False, input_shape=(224, 224, 3))\n",
    "\n",
    "# Conservation des poids du modèle pré-entraîné\n",
    "for layer in model_base.layers:\n",
    "    layer.trainable = False\n",
    "    \n",
    "# Définition du nouveau modèle\n",
    "model4 = Sequential([\n",
    "    data_augmentation,\n",
    "    Rescaling(1./127.5, offset=-1),  # Redimensionnement\n",
    "    model_base,\n",
    "    GlobalAveragePooling2D(),  # Average pooling\n",
    "    Dense(256, activation='relu'),  # Correction ReLu\n",
    "    Dropout(0.5),  # Attribution de la valeur 0 à la moitié des entrées\n",
    "    Dense(7, activation='softmax')  # Classification à 7 classes\n",
    "])\n",
    "\n",
    "# Compilation du modèle\n",
    "model4.compile(loss='categorical_crossentropy', optimizer='rmsprop', metrics=['accuracy'])\n",
    "\n",
    "model4.summary()"
   ]
  },
  {
   "cell_type": "markdown",
   "id": "47e27bf2",
   "metadata": {},
   "source": [
    "**Dataset**\n",
    "\n",
    "Nous pouvons reprendre nos jeux de données suivants :\n",
    "- `dataset_train` : Jeu d'entraînement\n",
    "- `dataset_val` : Jeu de validation\n",
    "- `dataset_test` : Jeu de test"
   ]
  },
  {
   "cell_type": "markdown",
   "id": "47169d6d",
   "metadata": {},
   "source": [
    "**Entraînement**"
   ]
  },
  {
   "cell_type": "code",
   "execution_count": 51,
   "id": "6b1b3dea",
   "metadata": {},
   "outputs": [],
   "source": [
    "# Création des callbacks\n",
    "model4_save_path = './model4_best_weights.h5'\n",
    "callbacks_list = create_callbacks(model4_save_path)"
   ]
  },
  {
   "cell_type": "code",
   "execution_count": 52,
   "id": "d4ce5227",
   "metadata": {
    "scrolled": false
   },
   "outputs": [
    {
     "name": "stdout",
     "output_type": "stream",
     "text": [
      "Epoch 1/50\n",
      "20/20 [==============================] - 176s 9s/step - loss: 1.8308 - accuracy: 0.3000 - val_loss: 1.3948 - val_accuracy: 0.5571\n",
      "\n",
      "Epoch 00001: val_loss improved from inf to 1.39475, saving model to .\\model4_best_weights.h5\n",
      "Epoch 2/50\n",
      "20/20 [==============================] - 173s 9s/step - loss: 1.3724 - accuracy: 0.5079 - val_loss: 1.1266 - val_accuracy: 0.6810\n",
      "\n",
      "Epoch 00002: val_loss improved from 1.39475 to 1.12663, saving model to .\\model4_best_weights.h5\n",
      "Epoch 3/50\n",
      "20/20 [==============================] - 174s 9s/step - loss: 1.2094 - accuracy: 0.6048 - val_loss: 1.0134 - val_accuracy: 0.6952\n",
      "\n",
      "Epoch 00003: val_loss improved from 1.12663 to 1.01337, saving model to .\\model4_best_weights.h5\n",
      "Epoch 4/50\n",
      "20/20 [==============================] - 174s 9s/step - loss: 1.0602 - accuracy: 0.6762 - val_loss: 0.8505 - val_accuracy: 0.7905\n",
      "\n",
      "Epoch 00004: val_loss improved from 1.01337 to 0.85051, saving model to .\\model4_best_weights.h5\n",
      "Epoch 5/50\n",
      "20/20 [==============================] - 174s 9s/step - loss: 0.9650 - accuracy: 0.7000 - val_loss: 0.8110 - val_accuracy: 0.7714\n",
      "\n",
      "Epoch 00005: val_loss improved from 0.85051 to 0.81100, saving model to .\\model4_best_weights.h5\n",
      "Epoch 6/50\n",
      "20/20 [==============================] - 174s 9s/step - loss: 0.9123 - accuracy: 0.6984 - val_loss: 0.7826 - val_accuracy: 0.7714\n",
      "\n",
      "Epoch 00006: val_loss improved from 0.81100 to 0.78257, saving model to .\\model4_best_weights.h5\n",
      "Epoch 7/50\n",
      "20/20 [==============================] - 174s 9s/step - loss: 0.8748 - accuracy: 0.7175 - val_loss: 0.7276 - val_accuracy: 0.7905\n",
      "\n",
      "Epoch 00007: val_loss improved from 0.78257 to 0.72757, saving model to .\\model4_best_weights.h5\n",
      "Epoch 8/50\n",
      "20/20 [==============================] - 174s 9s/step - loss: 0.8351 - accuracy: 0.7270 - val_loss: 0.7490 - val_accuracy: 0.7619\n",
      "\n",
      "Epoch 00008: val_loss did not improve from 0.72757\n",
      "Epoch 9/50\n",
      "20/20 [==============================] - 174s 9s/step - loss: 0.7849 - accuracy: 0.7571 - val_loss: 0.6731 - val_accuracy: 0.7952\n",
      "\n",
      "Epoch 00009: val_loss improved from 0.72757 to 0.67308, saving model to .\\model4_best_weights.h5\n",
      "Epoch 10/50\n",
      "20/20 [==============================] - 174s 9s/step - loss: 0.7643 - accuracy: 0.7508 - val_loss: 0.6451 - val_accuracy: 0.8000\n",
      "\n",
      "Epoch 00010: val_loss improved from 0.67308 to 0.64508, saving model to .\\model4_best_weights.h5\n",
      "Epoch 11/50\n",
      "20/20 [==============================] - 174s 9s/step - loss: 0.7354 - accuracy: 0.7698 - val_loss: 0.6649 - val_accuracy: 0.8095\n",
      "\n",
      "Epoch 00011: val_loss did not improve from 0.64508\n",
      "Epoch 12/50\n",
      "20/20 [==============================] - 174s 9s/step - loss: 0.7118 - accuracy: 0.7667 - val_loss: 0.6548 - val_accuracy: 0.7952\n",
      "\n",
      "Epoch 00012: val_loss did not improve from 0.64508\n",
      "Epoch 13/50\n",
      "20/20 [==============================] - 173s 9s/step - loss: 0.6834 - accuracy: 0.7794 - val_loss: 0.6680 - val_accuracy: 0.7952\n",
      "\n",
      "Epoch 00013: val_loss did not improve from 0.64508\n",
      "Epoch 14/50\n",
      "20/20 [==============================] - 173s 9s/step - loss: 0.7143 - accuracy: 0.7619 - val_loss: 0.6537 - val_accuracy: 0.8095\n",
      "\n",
      "Epoch 00014: val_loss did not improve from 0.64508\n",
      "Epoch 15/50\n",
      "20/20 [==============================] - 174s 9s/step - loss: 0.6304 - accuracy: 0.8063 - val_loss: 0.6566 - val_accuracy: 0.7952\n",
      "\n",
      "Epoch 00015: val_loss did not improve from 0.64508\n",
      "Epoch 00015: early stopping\n"
     ]
    }
   ],
   "source": [
    "# Entraînement du modèle et mesure du temps\n",
    "start_time = timeit.default_timer()\n",
    "history4 = model4.fit(dataset_train,\n",
    "                      validation_data=dataset_val,\n",
    "                      epochs=50,\n",
    "                      batch_size=32,\n",
    "                      callbacks=callbacks_list,\n",
    "                      verbose=1)\n",
    "stop_time = timeit.default_timer()"
   ]
  },
  {
   "cell_type": "code",
   "execution_count": 53,
   "id": "6003594d",
   "metadata": {},
   "outputs": [
    {
     "name": "stdout",
     "output_type": "stream",
     "text": [
      "Fit Time: 2609s | 43.49min\n"
     ]
    }
   ],
   "source": [
    "# Temps d'entraînement\n",
    "fit_time = stop_time - start_time\n",
    "print(\"Fit Time: {:.0f}s | {:.2f}min\".format(fit_time, fit_time/60))"
   ]
  },
  {
   "cell_type": "code",
   "execution_count": 54,
   "id": "ec9a6ad4",
   "metadata": {},
   "outputs": [
    {
     "data": {
      "image/png": "[encoded data removed]",
      "text/plain": [
       "<Figure size 1000x500 with 2 Axes>"
      ]
     },
     "metadata": {
      "needs_background": "light"
     },
     "output_type": "display_data"
    }
   ],
   "source": [
    "show_history(history4)"
   ]
  },
  {
   "cell_type": "markdown",
   "id": "5438a754",
   "metadata": {},
   "source": [
    "Sur ce graphique, nous observons que la perte du jeu d'entraînement et celle du jeu de test diminuent toutes les deux avec les epochs. L'écart entre les deux courbes est faible. Par conséquent, nous n'avons pas de problème majeur de sur-apprentissage (ou de sous-apprentissage)."
   ]
  },
  {
   "cell_type": "code",
   "execution_count": 55,
   "id": "46eb71ac",
   "metadata": {},
   "outputs": [
    {
     "name": "stdout",
     "output_type": "stream",
     "text": [
      "Validation Accuracy :  0.8000\n",
      "Test Accuracy       :  0.7810\n"
     ]
    }
   ],
   "source": [
    "# Score de l'epoch optimal\n",
    "\n",
    "model4.load_weights(model4_save_path)\n",
    "\n",
    "loss, accuracy = model4.evaluate(dataset_val, verbose=False)\n",
    "print(\"Validation Accuracy :  {:.4f}\".format(accuracy))\n",
    "\n",
    "loss, accuracy = model4.evaluate(dataset_test, verbose=False)\n",
    "print(\"Test Accuracy       :  {:.4f}\".format(accuracy))"
   ]
  },
  {
   "cell_type": "markdown",
   "id": "b9fc50d1",
   "metadata": {},
   "source": [
    "L'accuracy du jeu de test est décente et proche de celle du jeu de validation."
   ]
  },
  {
   "cell_type": "code",
   "execution_count": 56,
   "id": "fda23252",
   "metadata": {},
   "outputs": [],
   "source": [
    "# Enregistrement du temps d'entraînement et de l'accuracy (sur le jeu de test)\n",
    "score_df.loc['Dataset avec data augmentation intégrée au modèle'] = [fit_time, accuracy]"
   ]
  },
  {
   "cell_type": "markdown",
   "id": "649718b9",
   "metadata": {},
   "source": [
    "# 3. Synthèse"
   ]
  },
  {
   "cell_type": "markdown",
   "id": "350dbf84",
   "metadata": {},
   "source": [
    "Tableau de comparaison des modèles :"
   ]
  },
  {
   "cell_type": "code",
   "execution_count": 57,
   "id": "6087a9bf",
   "metadata": {},
   "outputs": [
    {
     "data": {
      "text/html": [
       "<div>\n",
       "<style scoped>\n",
       "    .dataframe tbody tr th:only-of-type {\n",
       "        vertical-align: middle;\n",
       "    }\n",
       "\n",
       "    .dataframe tbody tr th {\n",
       "        vertical-align: top;\n",
       "    }\n",
       "\n",
       "    .dataframe thead th {\n",
       "        text-align: right;\n",
       "    }\n",
       "</style>\n",
       "<table border=\"1\" class=\"dataframe\">\n",
       "  <thead>\n",
       "    <tr style=\"text-align: right;\">\n",
       "      <th></th>\n",
       "      <th>Fit Time</th>\n",
       "      <th>Accuracy</th>\n",
       "    </tr>\n",
       "    <tr>\n",
       "      <th>Approche</th>\n",
       "      <th></th>\n",
       "      <th></th>\n",
       "    </tr>\n",
       "  </thead>\n",
       "  <tbody>\n",
       "    <tr>\n",
       "      <th>Préparation initiale des images</th>\n",
       "      <td>1858.3929</td>\n",
       "      <td>0.8333</td>\n",
       "    </tr>\n",
       "    <tr>\n",
       "      <th>ImageDataGenerator avec data augmentation</th>\n",
       "      <td>3385.6506</td>\n",
       "      <td>0.8429</td>\n",
       "    </tr>\n",
       "    <tr>\n",
       "      <th>Dataset sans data augmentation</th>\n",
       "      <td>1896.0700</td>\n",
       "      <td>0.8286</td>\n",
       "    </tr>\n",
       "    <tr>\n",
       "      <th>Dataset avec data augmentation intégrée au modèle</th>\n",
       "      <td>2609.4327</td>\n",
       "      <td>0.7810</td>\n",
       "    </tr>\n",
       "  </tbody>\n",
       "</table>\n",
       "</div>"
      ],
      "text/plain": [
       "                                                    Fit Time  Accuracy\n",
       "Approche                                                              \n",
       "Préparation initiale des images                    1858.3929    0.8333\n",
       "ImageDataGenerator avec data augmentation          3385.6506    0.8429\n",
       "Dataset sans data augmentation                     1896.0700    0.8286\n",
       "Dataset avec data augmentation intégrée au modèle  2609.4327    0.7810"
      ]
     },
     "execution_count": 57,
     "metadata": {},
     "output_type": "execute_result"
    }
   ],
   "source": [
    "score_df.round(4)"
   ]
  },
  {
   "cell_type": "code",
   "execution_count": 58,
   "id": "d850f85e",
   "metadata": {},
   "outputs": [
    {
     "data": {
      "text/plain": [
       "Approche\n",
       "Préparation initiale des images                      30.97\n",
       "ImageDataGenerator avec data augmentation            56.43\n",
       "Dataset sans data augmentation                       31.60\n",
       "Dataset avec data augmentation intégrée au modèle    43.49\n",
       "Name: Fit Time, dtype: float64"
      ]
     },
     "execution_count": 58,
     "metadata": {},
     "output_type": "execute_result"
    }
   ],
   "source": [
    "# Conversion du temps d'entraînement en minutes\n",
    "time_min = score_df['Fit Time'] / 60\n",
    "time_min.round(2)"
   ]
  },
  {
   "cell_type": "code",
   "execution_count": 59,
   "id": "80b3e209",
   "metadata": {},
   "outputs": [
    {
     "data": {
      "image/png": "[encoded data removed]",
      "text/plain": [
       "<Figure size 792x504 with 1 Axes>"
      ]
     },
     "metadata": {
      "needs_background": "light"
     },
     "output_type": "display_data"
    }
   ],
   "source": [
    "# Création d'un bar plot (horizontal) à partir des valeurs de temps par ordre croissant\n",
    "time_min.sort_values(ascending=True).plot(kind='barh', figsize=(11, 7))\n",
    "\n",
    "# Label, grille et affichage\n",
    "plt.xlabel('Fit Time (min)')\n",
    "plt.grid(axis='x')\n",
    "plt.show()"
   ]
  },
  {
   "cell_type": "markdown",
   "id": "66d47b0c",
   "metadata": {},
   "source": [
    "Les approches les plus simples, c'est-à-dire celles sans data augmentation, ont les temps d'entraînement les plus petits (environ une trentaine de minutes). En effet, les approches plus complexes, c'est-à-dire celles avec data augmentation, ont des temps d'entraînement plus longs (environ 45 minutes ou 1 heure)."
   ]
  },
  {
   "cell_type": "code",
   "execution_count": 60,
   "id": "65304b68",
   "metadata": {},
   "outputs": [
    {
     "data": {
      "image/png": "[encoded data removed]",
      "text/plain": [
       "<Figure size 792x504 with 1 Axes>"
      ]
     },
     "metadata": {
      "needs_background": "light"
     },
     "output_type": "display_data"
    }
   ],
   "source": [
    "# # Création d'un bar plot (horizontal) à partir des valeurs d'accuracy par ordre décroissant\n",
    "score_df['Accuracy'].sort_values(ascending=False).plot(kind='barh', figsize=(11, 7))\n",
    "\n",
    "# Label, grille et affichage\n",
    "plt.xlabel('Accuracy')\n",
    "plt.grid(axis='x')\n",
    "plt.show()"
   ]
  },
  {
   "cell_type": "markdown",
   "id": "eaaa5566",
   "metadata": {},
   "source": [
    "L'approche \"ImageDataGenerator avec data augmentation\" a l'accuracy la plus élevée. Puisque l'accuracy a été mesuré sur le jeu de test, alors cette approche est la plus performante sur de nouvelles données."
   ]
  }
 ],
 "metadata": {
  "kernelspec": {
   "display_name": "Projet 6",
   "language": "python",
   "name": "pro6"
  },
  "language_info": {
   "codemirror_mode": {
    "name": "ipython",
    "version": 3
   },
   "file_extension": ".py",
   "mimetype": "text/x-python",
   "name": "python",
   "nbconvert_exporter": "python",
   "pygments_lexer": "ipython3",
   "version": "3.6.15"
  }
 },
 "nbformat": 4,
 "nbformat_minor": 5
}
